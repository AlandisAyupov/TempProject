{
 "cells": [
  {
   "cell_type": "markdown",
   "metadata": {},
   "source": [
    "## Flashcard"
   ]
  },
  {
   "cell_type": "code",
   "execution_count": null,
   "metadata": {},
   "outputs": [],
   "source": []
  },
  {
   "cell_type": "markdown",
   "metadata": {},
   "source": [
    "## Req\n",
    "Asks and downloads venv and requirements"
   ]
  },
  {
   "cell_type": "code",
   "execution_count": null,
   "metadata": {},
   "outputs": [],
   "source": [
    "import os\n",
    "import subprocess\n",
    "import sys\n",
    "from pathlib import Path\n",
    "import tkinter as tk\n",
    "from tkinter import messagebox\n",
    "\n",
    "def ask_user(prompt):\n",
    "    \"\"\"Creates a popup to ask the user a yes/no question.\"\"\"\n",
    "    root = tk.Tk()\n",
    "    root.withdraw()  # Hide the root window\n",
    "    return messagebox.askyesno(\"Confirmation\", prompt)\n",
    "\n",
    "def create_virtual_env(venv_dir=\"venv\"):\n",
    "    \"\"\"Creates a virtual environment in the specified directory.\"\"\"\n",
    "    user_input = ask_user(\"Do you want to create a virtual environment?\")\n",
    "    if user_input:\n",
    "        venv_path = Path(venv_dir)\n",
    "        if venv_path.exists():\n",
    "            print(f\"Virtual environment already exists at {venv_dir}\")\n",
    "        else:\n",
    "            print(f\"Creating virtual environment at {venv_dir}...\")\n",
    "            subprocess.check_call([sys.executable, \"-m\", \"venv\", venv_dir])\n",
    "            print(\"Virtual environment created.\")\n",
    "    else:\n",
    "        print(\"Skipping virtual environment creation.\")\n",
    "\n",
    "def install_requirements(requirements_file=\"requirements.txt\", venv_dir=\"venv\"):\n",
    "    \"\"\"Installs requirements into the specified virtual environment.\"\"\"\n",
    "    user_input = ask_user(\"Do you want to install the requirements from the file?\")\n",
    "    if user_input:\n",
    "        venv_bin = Path(venv_dir) / (\"Scripts\" if os.name == \"nt\" else \"bin\")\n",
    "        pip_path = venv_bin / \"pip\"\n",
    "\n",
    "        if not pip_path.exists():\n",
    "            raise FileNotFoundError(f\"Pip not found in virtual environment {venv_dir}. Is the venv properly set up?\")\n",
    "\n",
    "        if not Path(requirements_file).exists():\n",
    "            raise FileNotFoundError(f\"Requirements file {requirements_file} not found.\")\n",
    "\n",
    "        print(f\"Installing requirements from {requirements_file}...\")\n",
    "        subprocess.check_call([str(pip_path), \"install\", \"-r\", requirements_file])\n",
    "        print(\"Requirements installed successfully.\")\n",
    "    else:\n",
    "        print(\"Skipping requirements installation.\")\n",
    "\n",
    "def main():\n",
    "    \"\"\"Main function to handle user interaction.\"\"\"\n",
    "    user_input = ask_user(\"Do you want to install the requirements?\")\n",
    "\n",
    "    if user_input:\n",
    "        venv_dir = \"venv\"\n",
    "        force_venv = ask_user(\"Do you want to force the creation of a virtual environment?\")\n",
    "        \n",
    "        if force_venv:\n",
    "            create_virtual_env(venv_dir)\n",
    "\n",
    "        try:\n",
    "            install_requirements(venv_dir=venv_dir)\n",
    "        except Exception as e:\n",
    "            print(f\"An error occurred: {e}\")\n",
    "    else:\n",
    "        print(\"Skipping requirements installation.\")"
   ]
  }
 ],
 "metadata": {
  "language_info": {
   "name": "python"
  }
 },
 "nbformat": 4,
 "nbformat_minor": 2
}
